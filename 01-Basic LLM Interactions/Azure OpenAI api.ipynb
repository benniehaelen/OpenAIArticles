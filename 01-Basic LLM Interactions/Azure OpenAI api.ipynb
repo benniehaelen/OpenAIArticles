{
 "cells": [
  {
   "cell_type": "code",
   "execution_count": 13,
   "id": "b137b779-ac26-4bc1-9f20-88b074ba3fcb",
   "metadata": {},
   "outputs": [],
   "source": [
    "import openai\n",
    "import configparser"
   ]
  },
  {
   "cell_type": "code",
   "execution_count": 14,
   "id": "cbf6d57c-c68c-478f-9cd7-0e6c365efcdc",
   "metadata": {},
   "outputs": [],
   "source": [
    "# Initialize the parser\n",
    "config = configparser.ConfigParser()\n",
    "\n",
    "# Read the config file\n",
    "config.read('..\\config.ini')\n",
    "\n",
    "# Configure the openai library\n",
    "openai.api_key     = config['DEFAULT']['azure_openai_key']\n",
    "openai.api_base    = config['DEFAULT']['azure_endpoint']\n",
    "openai.api_type    = 'azure'\n",
    "openai.api_version = '2023-05-15'\n",
    "\n"
   ]
  },
  {
   "cell_type": "code",
   "execution_count": 15,
   "id": "336a1d10-587d-4cb5-b3be-5bddc659cf10",
   "metadata": {},
   "outputs": [
    {
     "name": "stdout",
     "output_type": "stream",
     "text": [
      "In 2021, the Tampa Bay Buccaneers won Super Bowl LV. They defeated the Kansas City Chiefs with a score of 31-9, securing their second Super Bowl title in franchise history.\n"
     ]
    }
   ],
   "source": [
    "# Define the deployment name, we need\n",
    "# to pass this as the engine argument for \n",
    "# the ChatCompletion call\n",
    "deployment_name = 'GPT35'\n",
    "\n",
    "# This is a very simple example of a Chat Completion requestm\n",
    "# note the additional engine argument which needs to be set to\n",
    "# the deployment name\n",
    "response = openai.ChatCompletion.create(\n",
    "    engine=deployment_name,\n",
    "    model='gpt-3.5-turbo',\n",
    "    messages=[\n",
    "        {'role': 'system', 'content': 'You are an NFL reporter'},\n",
    "        {'role': 'user', 'content': 'Who won the superbowl in 2021?'}\n",
    "    ]\n",
    ")\n",
    "\n",
    "print(response['choices'][0].message.content)"
   ]
  },
  {
   "cell_type": "code",
   "execution_count": null,
   "id": "d4f4c001-519b-496f-9b0c-0fc159076ba4",
   "metadata": {},
   "outputs": [],
   "source": []
  },
  {
   "cell_type": "code",
   "execution_count": null,
   "id": "3ea4a3ad-158d-4976-a9d9-303c6456c4a5",
   "metadata": {},
   "outputs": [],
   "source": []
  },
  {
   "cell_type": "code",
   "execution_count": null,
   "id": "532544ef-c0ff-43ce-a36a-d123b8900475",
   "metadata": {},
   "outputs": [],
   "source": []
  },
  {
   "cell_type": "code",
   "execution_count": null,
   "id": "165878a4-e8e7-45f1-bef4-5ee5817c7c49",
   "metadata": {},
   "outputs": [],
   "source": []
  }
 ],
 "metadata": {
  "kernelspec": {
   "display_name": "venv-kernel",
   "language": "python",
   "name": "venv-kernel"
  },
  "language_info": {
   "codemirror_mode": {
    "name": "ipython",
    "version": 3
   },
   "file_extension": ".py",
   "mimetype": "text/x-python",
   "name": "python",
   "nbconvert_exporter": "python",
   "pygments_lexer": "ipython3",
   "version": "3.9.13"
  }
 },
 "nbformat": 4,
 "nbformat_minor": 5
}
