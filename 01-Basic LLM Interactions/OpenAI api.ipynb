{
 "cells": [
  {
   "cell_type": "code",
   "execution_count": 10,
   "id": "10c893aa-bcdc-4739-bcc8-3678a71e2801",
   "metadata": {},
   "outputs": [],
   "source": [
    "import openai"
   ]
  },
  {
   "cell_type": "code",
   "execution_count": 11,
   "id": "2b4d3b78-a05c-4597-b4ff-f7920e82526d",
   "metadata": {},
   "outputs": [],
   "source": [
    "import configparser\n",
    "\n",
    "# Initialize the parser\n",
    "config = configparser.ConfigParser()\n",
    "\n",
    "# Read the config file\n",
    "config.read('..\\config.ini')\n",
    "\n",
    "# Retrieve the secret\n",
    "openai.api_key = config['DEFAULT']['openai_api_key']"
   ]
  },
  {
   "cell_type": "code",
   "execution_count": 18,
   "id": "36b774f7-0cc4-4cf7-8d84-11de58120d80",
   "metadata": {},
   "outputs": [
    {
     "name": "stdout",
     "output_type": "stream",
     "text": [
      "{\n",
      "  \"id\": \"cmpl-868rSeOfHtltnl14fBQMa0ULrYzEh\",\n",
      "  \"object\": \"text_completion\",\n",
      "  \"created\": 1696474722,\n",
      "  \"model\": \"gpt-3.5-turbo-instruct\",\n",
      "  \"choices\": [\n",
      "    {\n",
      "      \"text\": \"\\n\\nThe Tampa Bay Buccaneers won the 2021 Super Bowl, defeating the Kansas City Chiefs by a score of 31-9.\",\n",
      "      \"index\": 0,\n",
      "      \"logprobs\": null,\n",
      "      \"finish_reason\": \"stop\"\n",
      "    }\n",
      "  ],\n",
      "  \"usage\": {\n",
      "    \"prompt_tokens\": 9,\n",
      "    \"completion_tokens\": 27,\n",
      "    \"total_tokens\": 36\n",
      "  }\n",
      "}\n"
     ]
    }
   ],
   "source": [
    "# This is an example of how to invoke the\n",
    "# legacy Completions API\n",
    "response = openai.Completion.create(\n",
    "    model='gpt-3.5-turbo-instruct',\n",
    "    prompt=\"Who won the 2021 super bowl?\",\n",
    "    max_tokens=50\n",
    ")\n",
    "print(response)    "
   ]
  },
  {
   "cell_type": "code",
   "execution_count": 19,
   "id": "72494ed5-b19c-4d5f-802a-5ea86968483c",
   "metadata": {},
   "outputs": [
    {
     "name": "stdout",
     "output_type": "stream",
     "text": [
      "\n",
      "\n",
      "The Tampa Bay Buccaneers won the 2021 Super Bowl, defeating the Kansas City Chiefs by a score of 31-9.\n"
     ]
    }
   ],
   "source": [
    "# Let's extract out just the reponse text\n",
    "print(response.choices[0].text)"
   ]
  },
  {
   "cell_type": "code",
   "execution_count": 42,
   "id": "32319cde-8d7c-40e6-a41b-eb9c6413ce95",
   "metadata": {},
   "outputs": [
    {
     "name": "stdout",
     "output_type": "stream",
     "text": [
      "\n",
      "\n",
      "The Kansas City Chiefs won the 2020 Super Bowl, defeating the San\n"
     ]
    }
   ],
   "source": [
    "print(response.choices[0].text)"
   ]
  },
  {
   "cell_type": "code",
   "execution_count": 20,
   "id": "76dfc90d-8e05-47ec-bad1-746faf15057a",
   "metadata": {},
   "outputs": [
    {
     "name": "stdout",
     "output_type": "stream",
     "text": [
      "The Tampa Bay Buccaneers won Super Bowl LV in 2021. They defeated the Kansas City Chiefs by a score of 31-9.\n"
     ]
    }
   ],
   "source": [
    "# This is a very simple example of a Chat Completion request\n",
    "response = openai.ChatCompletion.create(\n",
    "    model='gpt-3.5-turbo',\n",
    "    messages=[\n",
    "        {'role': 'system', 'content': 'You are an NFL reporter'},\n",
    "        {'role': 'user', 'content': 'Who won the superbowl in 2021?'}\n",
    "    ]\n",
    ")\n",
    "\n",
    "print(response['choices'][0].message.content)"
   ]
  },
  {
   "cell_type": "code",
   "execution_count": 21,
   "id": "200182a7-f920-494f-9a09-007ce5d1ed0a",
   "metadata": {},
   "outputs": [
    {
     "name": "stdout",
     "output_type": "stream",
     "text": [
      "To determine the MVP of a specific game, you would need to provide additional information about the game in question, such as the sport, teams involved, and the specific date or event.\n"
     ]
    }
   ],
   "source": [
    "# This is a very simple example of a Chat Completion request\n",
    "response = openai.ChatCompletion.create(\n",
    "    model='gpt-3.5-turbo',\n",
    "    messages=[\n",
    "        {'role': 'user', 'content': 'Who was the MVP of that game?' }\n",
    "    ]\n",
    ")\n",
    "\n",
    "print(response['choices'][0].message.content)"
   ]
  },
  {
   "cell_type": "code",
   "execution_count": 22,
   "id": "6fcbea3e-9fe2-4faf-a76a-5ae0e1f6d555",
   "metadata": {},
   "outputs": [
    {
     "name": "stdout",
     "output_type": "stream",
     "text": [
      "Tom Brady, the quarterback for the Tampa Bay Buccaneers, was named the MVP of Super Bowl LV.\n"
     ]
    }
   ],
   "source": [
    "response = openai.ChatCompletion.create(\n",
    "    model='gpt-3.5-turbo',\n",
    "    messages=[\n",
    "        {'role': 'system', 'content': 'You are an NFL reporter'},\n",
    "        {'role': 'user', 'content': 'Who won the superbowl in 2021?'},\n",
    "        {'role': 'assistant', 'content': 'The Tampa Bay Buccaneers won Super Bowl LV in 2021.'},\n",
    "        {'role': 'user', 'content': 'Who was the MVP of that game?'},\n",
    "    ]\n",
    ")\n",
    "\n",
    "print(response['choices'][0].message.content)"
   ]
  },
  {
   "cell_type": "code",
   "execution_count": 25,
   "id": "92301452-770f-4493-b911-c9a9e9c6652b",
   "metadata": {},
   "outputs": [
    {
     "name": "stdout",
     "output_type": "stream",
     "text": [
      "In a dominant performance, the Tampa Bay Buccaneers defeated the Kansas City Chiefs 31-9 in Super Bowl LV. Led by quarterback Tom Brady, the Buccaneers' defense stifled the Chiefs' high-powered offense, securing their second Super Bowl victory in franchise history.\n"
     ]
    }
   ],
   "source": [
    "response = openai.ChatCompletion.create(\n",
    "    model='gpt-3.5-turbo',\n",
    "    messages=[\n",
    "        {'role': 'system', 'content': 'You are an NFL reporter'},\n",
    "        {'role': 'user', 'content': 'Who won the superbowl in 2021?'},\n",
    "        {'role': 'assistant', 'content': 'The Tampa Bay Buccaneers won Super Bowl LV in 2021.'},\n",
    "        {'role': 'user', 'content': 'Can you provide a two-line summary of the game?'}\n",
    "    ],\n",
    "    temperature=0\n",
    ")\n",
    "\n",
    "print(response['choices'][0].message.content)"
   ]
  },
  {
   "cell_type": "code",
   "execution_count": 29,
   "id": "3d9f6cda-d79a-4bdb-b704-486c24d3cf2c",
   "metadata": {},
   "outputs": [
    {
     "name": "stdout",
     "output_type": "stream",
     "text": [
      "In a dominant performance, the Tampa Bay Buccaneers defeated the Kansas City Chiefs 31-9 to win Super Bowl LV. Tom Brady led the way, throwing for three touchdowns and earning his seventh Super Bowl ring.\n"
     ]
    }
   ],
   "source": [
    "response = openai.ChatCompletion.create(\n",
    "    model='gpt-3.5-turbo',\n",
    "    messages=[\n",
    "        {'role': 'system', 'content': 'You are an NFL reporter'},\n",
    "        {'role': 'user', 'content': 'Who won the superbowl in 2021?'},\n",
    "        {'role': 'assistant', 'content': 'The Tampa Bay Buccaneers won Super Bowl LV in 2021.'},\n",
    "        {'role': 'user', 'content': 'Can you provide a two-line summary of the game?'}\n",
    "    ],\n",
    "    temperature=0.8,\n",
    "    max_tokens = 50\n",
    ")\n",
    "\n",
    "print(response['choices'][0].message.content)"
   ]
  },
  {
   "cell_type": "code",
   "execution_count": 30,
   "id": "aa21b29b-ca73-4a79-aec3-fb03b8fb640d",
   "metadata": {},
   "outputs": [
    {
     "name": "stdout",
     "output_type": "stream",
     "text": [
      "In Super Bowl LV, the Tampa Bay Buccaneers dominated the Kansas City Chiefs, securing a decisive 31-9 victory. Led by an exceptional performance from quarterback Tom Brady, the Buccaneers' defense stifled\n"
     ]
    }
   ],
   "source": [
    "response = openai.ChatCompletion.create(\n",
    "    model='gpt-3.5-turbo',\n",
    "    messages=[\n",
    "        {'role': 'system', 'content': 'You are an NFL reporter'},\n",
    "        {'role': 'user', 'content': 'Who won the superbowl in 2021?'},\n",
    "        {'role': 'assistant', 'content': 'The Tampa Bay Buccaneers won Super Bowl LV in 2021.'},\n",
    "        {'role': 'user', 'content': 'Can you provide a two-line summary of the game?'}\n",
    "    ],\n",
    "    temperature=0.8,\n",
    "    max_tokens = 40\n",
    ")\n",
    "\n",
    "print(response['choices'][0].message.content)"
   ]
  }
 ],
 "metadata": {
  "kernelspec": {
   "display_name": "venv-kernel",
   "language": "python",
   "name": "venv-kernel"
  },
  "language_info": {
   "codemirror_mode": {
    "name": "ipython",
    "version": 3
   },
   "file_extension": ".py",
   "mimetype": "text/x-python",
   "name": "python",
   "nbconvert_exporter": "python",
   "pygments_lexer": "ipython3",
   "version": "3.9.13"
  }
 },
 "nbformat": 4,
 "nbformat_minor": 5
}
